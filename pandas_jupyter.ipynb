{
 "cells": [
  {
   "cell_type": "code",
   "execution_count": 34,
   "id": "23a9783a",
   "metadata": {},
   "outputs": [
    {
     "name": "stdout",
     "output_type": "stream",
     "text": [
      "            NOME  NOTA1  NOTA2  FALTAS  MEDIA   SITUAÇÃO\n",
      "0      ANA PAULA      8      6       3    7.0   APROVADO\n",
      "1  BRUNO CORREIA      5      6       5    5.5  REPROVADO\n",
      "2    CAIO RENNAN      8      9       4    8.5   APROVADO\n",
      "3     ERIKA SENA      8      9       1    8.5   APROVADO\n",
      "4     JOSÉ SILVA      3      4       6    3.5  REPROVADO\n",
      "5   LUIZA MARCOS      9      5       3    7.0   APROVADO\n",
      "6  PEDRO CORREIA      6      7       4    6.5  REPROVADO\n"
     ]
    }
   ],
   "source": [
    "import pandas as pd\n",
    "df=pd.read_csv(\"notas_alunos.csv\", sep=\";\")\n",
    "df[\"MEDIA\"] = (df[\"NOTA1\"]+df[\"NOTA2\"])/2\n",
    "df.loc[df[\"MEDIA\"]>=7, \"SITUAÇÃO\"]=\"APROVADO\"\n",
    "df.loc[df[\"MEDIA\"]<7, \"SITUAÇÃO\"]=\"REPROVADO\"\n",
    "df.loc[df[\"FALTAS\"]>=5, \"SITUAÇÃO\"]=\"REPROVADO\"\n",
    "df.to_csv(\"alunos_situacao.csv\", sep=\";\")\n",
    "print(df)"
   ]
  },
  {
   "cell_type": "code",
   "execution_count": 30,
   "id": "5fcace2b",
   "metadata": {},
   "outputs": [
    {
     "name": "stdout",
     "output_type": "stream",
     "text": [
      "Media geral = 9.3\n",
      "Maior media = 8.5\n",
      "Maior número de faltas = 6\n"
     ]
    }
   ],
   "source": [
    "somamedia= df[\"MEDIA\"].sum()\n",
    "mediageral= somamedia/7\n",
    "maior= df[\"MEDIA\"].max()\n",
    "maiorfalta = df[\"FALTAS\"].max()\n",
    "print(\"Media geral = \"+str(mediageral))\n",
    "print(\"Maior media = \"+str(maior))\n",
    "print(\"Maior número de faltas = \"+str(maiorfalta))"
   ]
  },
  {
   "cell_type": "code",
   "execution_count": null,
   "id": "d3674d05",
   "metadata": {},
   "outputs": [],
   "source": []
  }
 ],
 "metadata": {
  "kernelspec": {
   "display_name": "Python 3 (ipykernel)",
   "language": "python",
   "name": "python3"
  },
  "language_info": {
   "codemirror_mode": {
    "name": "ipython",
    "version": 3
   },
   "file_extension": ".py",
   "mimetype": "text/x-python",
   "name": "python",
   "nbconvert_exporter": "python",
   "pygments_lexer": "ipython3",
   "version": "3.9.12"
  }
 },
 "nbformat": 4,
 "nbformat_minor": 5
}
